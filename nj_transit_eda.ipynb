{
 "cells": [
  {
   "cell_type": "code",
   "execution_count": 1,
   "metadata": {},
   "outputs": [],
   "source": [
    "# Load libraries\n",
    "import os \n",
    "import glob\n",
    "\n",
    "import numpy as np\n",
    "import pandas as pd\n",
    "import matplotlib.pyplot as plt\n",
    "%matplotlib inline\n",
    "import seaborn as sns\n",
    "import scipy.stats as st\n",
    "import missingno as msno"
   ]
  },
  {
   "cell_type": "code",
   "execution_count": 2,
   "metadata": {},
   "outputs": [],
   "source": [
    "extension = 'csv'\n",
    "path = r'C:\\Users\\Justin\\Data Science\\NJ Transit\\data'\n",
    "all_files = glob.glob(path + \"/*.csv\")\n",
    "\n",
    "li = []"
   ]
  },
  {
   "cell_type": "code",
   "execution_count": 3,
   "metadata": {},
   "outputs": [],
   "source": [
    "for file in all_files:\n",
    "    df = pd.read_csv(file, index_col=None)\n",
    "    li.append(df)\n",
    "    \n",
    "#frame = pd.concat(li, axis=0, ignore_index=True)\n",
    "#frame = pd.read_csv('data/2018_03.csv', index_col=None)\n",
    "#frame2 = pd.read_csv('data/2018_04.csv', index_col=None)\n",
    "#frame3 = pd.read_csv('data/2018_05.csv', index_col=None)"
   ]
  },
  {
   "cell_type": "code",
   "execution_count": 4,
   "metadata": {},
   "outputs": [
    {
     "ename": "NameError",
     "evalue": "name 'frame' is not defined",
     "output_type": "error",
     "traceback": [
      "\u001b[1;31m---------------------------------------------------------------------------\u001b[0m",
      "\u001b[1;31mNameError\u001b[0m                                 Traceback (most recent call last)",
      "\u001b[1;32m<ipython-input-4-827f2a9bda97>\u001b[0m in \u001b[0;36m<module>\u001b[1;34m\u001b[0m\n\u001b[1;32m----> 1\u001b[1;33m \u001b[0mframe\u001b[0m\u001b[1;33m.\u001b[0m\u001b[0mhead\u001b[0m\u001b[1;33m(\u001b[0m\u001b[1;36m20\u001b[0m\u001b[1;33m)\u001b[0m\u001b[1;33m\u001b[0m\u001b[1;33m\u001b[0m\u001b[0m\n\u001b[0m",
      "\u001b[1;31mNameError\u001b[0m: name 'frame' is not defined"
     ]
    }
   ],
   "source": [
    "frame.head(20)"
   ]
  },
  {
   "cell_type": "code",
   "execution_count": null,
   "metadata": {},
   "outputs": [],
   "source": [
    "frame.tail()"
   ]
  },
  {
   "cell_type": "code",
   "execution_count": null,
   "metadata": {},
   "outputs": [],
   "source": [
    "frame.describe()"
   ]
  },
  {
   "cell_type": "code",
   "execution_count": null,
   "metadata": {},
   "outputs": [],
   "source": [
    "frame.shape"
   ]
  },
  {
   "cell_type": "code",
   "execution_count": null,
   "metadata": {},
   "outputs": [],
   "source": [
    "numeric_features = frame.select_dtypes(include=[np.number])\n",
    "numeric_features.columns"
   ]
  },
  {
   "cell_type": "code",
   "execution_count": null,
   "metadata": {},
   "outputs": [],
   "source": [
    "categorical_features = frame.select_dtypes(include=[np.object])\n",
    "categorical_features.columns"
   ]
  },
  {
   "cell_type": "code",
   "execution_count": null,
   "metadata": {},
   "outputs": [],
   "source": [
    "msno.matrix(frame.sample(1000))"
   ]
  },
  {
   "cell_type": "code",
   "execution_count": null,
   "metadata": {},
   "outputs": [],
   "source": [
    "msno.bar(frame.sample(1000))"
   ]
  },
  {
   "cell_type": "code",
   "execution_count": null,
   "metadata": {},
   "outputs": [],
   "source": [
    "msno.dendrogram(frame)"
   ]
  },
  {
   "cell_type": "code",
   "execution_count": null,
   "metadata": {},
   "outputs": [],
   "source": [
    "frame.skew()"
   ]
  },
  {
   "cell_type": "code",
   "execution_count": null,
   "metadata": {},
   "outputs": [],
   "source": [
    "frame.kurt()"
   ]
  },
  {
   "cell_type": "code",
   "execution_count": null,
   "metadata": {},
   "outputs": [],
   "source": [
    "# Remove rows where we have no delay_minutes value\n",
    "frame = frame.dropna(subset=['delay_minutes'])"
   ]
  },
  {
   "cell_type": "code",
   "execution_count": null,
   "metadata": {},
   "outputs": [],
   "source": [
    "y = frame['delay_minutes']\n",
    "\n",
    "plt.figure(1); plt.title('Johnson SU')\n",
    "sns.distplot(y, kde=False, fit=st.johnsonsu)\n",
    "\n",
    "plt.figure(2); plt.title('Normal')\n",
    "sns.distplot(y, kde=False, fit=st.norm)\n",
    "\n",
    "plt.figure(3); plt.title('Log Normal')\n",
    "sns.distplot(y, kde=False, fit=st.lognorm)"
   ]
  },
  {
   "cell_type": "code",
   "execution_count": null,
   "metadata": {},
   "outputs": [],
   "source": [
    "sns.distplot(frame.skew(), color='blue', axlabel='Skewness')"
   ]
  },
  {
   "cell_type": "code",
   "execution_count": null,
   "metadata": {},
   "outputs": [],
   "source": [
    "plt.figure(figsize = (12,8))\n",
    "sns.distplot(frame.kurt(), color='r', axlabel='Kurtosis', norm_hist=False, kde=True, rug=False)\n",
    "plt.show()"
   ]
  },
  {
   "cell_type": "code",
   "execution_count": null,
   "metadata": {},
   "outputs": [],
   "source": [
    "plt.hist(frame['delay_minutes'], orientation='vertical', histtype='bar', color='blue')\n",
    "plt.show()"
   ]
  },
  {
   "cell_type": "code",
   "execution_count": null,
   "metadata": {},
   "outputs": [],
   "source": [
    "correlation = numeric_features.corr()\n",
    "print(correlation['delay_minutes'].sort_values(ascending=False), '\\n')"
   ]
  },
  {
   "cell_type": "code",
   "execution_count": null,
   "metadata": {},
   "outputs": [],
   "source": [
    "f, ax = plt.subplots(figsize = (15, 15))\n",
    "sns.heatmap(correlation, square=True, linewidths=0.5, annot=True)\n",
    "plt.show()"
   ]
  },
  {
   "cell_type": "code",
   "execution_count": null,
   "metadata": {
    "scrolled": false
   },
   "outputs": [],
   "source": [
    "sns.set()\n",
    "columns = ['delay_minutes', 'stop_sequence', 'to_id', 'from_id']\n",
    "sns.pairplot(frame[numeric_features.columns], size=2, kind='scatter', diag_kind='kde')\n",
    "plt.show()"
   ]
  },
  {
   "cell_type": "code",
   "execution_count": null,
   "metadata": {},
   "outputs": [],
   "source": [
    "fig, ((ax1, ax2, ax3)) = plt.subplots(nrows=1, ncols=3, figsize=(14,10))\n",
    "\n",
    "stop_sequence_scatter = pd.concat([frame['delay_minutes'], frame['stop_sequence']], axis=1)\n",
    "sns.regplot(x='stop_sequence', y='delay_minutes', data=stop_sequence_scatter, scatter=True, fit_reg=True, ax=ax1)\n",
    "\n",
    "from_id_scatter = pd.concat([frame['delay_minutes'], frame['from_id']], axis=1)\n",
    "sns.regplot(x='from_id', y='delay_minutes', data=from_id_scatter, scatter=True, fit_reg=True, ax=ax2)\n",
    "\n",
    "to_id_scatter = pd.concat([frame['delay_minutes'], frame['to_id']], axis=1)\n",
    "sns.regplot(x='to_id', y='delay_minutes', data=to_id_scatter, scatter=True, fit_reg=True, ax=ax3)"
   ]
  },
  {
   "cell_type": "code",
   "execution_count": null,
   "metadata": {},
   "outputs": [],
   "source": [
    "delay_minutes_stop_sequence = frame.pivot_table(index='stop_sequence', values='delay_minutes', aggfunc=np.median)\n",
    "delay_minutes_stop_sequence.plot(kind='bar', color='blue')\n",
    "plt.xlabel('stop_sequence')\n",
    "plt.ylabel('median delay minutes')\n",
    "plt.show()"
   ]
  },
  {
   "cell_type": "code",
   "execution_count": null,
   "metadata": {},
   "outputs": [],
   "source": [
    "var = 'stop_sequence'\n",
    "data = pd.concat([frame['delay_minutes'], frame[var]], axis=1)\n",
    "f, ax = plt.subplots(figsize=(12,8))\n",
    "fig = sns.boxplot(x=var, y='delay_minutes', data=data)\n",
    "fig.axis(ymin=0, ymax=150)"
   ]
  },
  {
   "cell_type": "code",
   "execution_count": null,
   "metadata": {},
   "outputs": [],
   "source": [
    "var = 'line'\n",
    "data = pd.concat([frame['delay_minutes'], frame[var]], axis=1)\n",
    "f, ax = plt.subplots(figsize=(12,8))\n",
    "fig = sns.boxplot(x=var, y='delay_minutes', data=data)\n",
    "fig.axis(ymin=0, ymax=20);\n",
    "xt = plt.xticks(rotation=45)"
   ]
  },
  {
   "cell_type": "code",
   "execution_count": null,
   "metadata": {
    "scrolled": true
   },
   "outputs": [],
   "source": [
    "var = 'from_id'\n",
    "data = pd.concat([frame['delay_minutes'], frame[var]], axis=1)\n",
    "f, ax = plt.subplots(figsize=(12,8))\n",
    "fig = sns.boxplot(x=var, y='delay_minutes', data=data)\n",
    "fig.axis(ymin=0, ymax=20);\n",
    "xt = plt.xticks(rotation=90)"
   ]
  },
  {
   "cell_type": "code",
   "execution_count": null,
   "metadata": {
    "scrolled": false
   },
   "outputs": [],
   "source": [
    "# see how date effects delay_minutes\n",
    "frame['date'] = pd.to_datetime(frame['date'])\n",
    "plt.plot_date(x=frame['date'], y=frame['delay_minutes'], fmt='r-')\n",
    "plt.xticks(rotation=90)"
   ]
  },
  {
   "cell_type": "code",
   "execution_count": null,
   "metadata": {},
   "outputs": [],
   "source": [
    "no_time_features = frame[['status', 'line', 'type']]\n",
    "no_time_features.columns"
   ]
  },
  {
   "cell_type": "code",
   "execution_count": null,
   "metadata": {},
   "outputs": [],
   "source": [
    "for c in no_time_features:\n",
    "    frame[c] = frame[c].astype('category')\n",
    "    if frame[c].isnull().any():\n",
    "        frame[c] = frame[c].cat.add_categories(['MISSING'])\n",
    "        frame[c] = frame[c].fillna('MISSING')\n",
    "        \n",
    "def boxplot(x, y, **kwargs):\n",
    "    sns.boxplot(x=x, y=y)\n",
    "    x=plt.xticks(rotation=90)\n",
    "    \n",
    "f = pd.melt(frame, id_vars=['delay_minutes'], value_vars=no_time_features)\n",
    "g = sns.FacetGrid(f, col='variable', col_wrap=2, sharex=False, sharey=False, size=5)\n",
    "g = g.map(boxplot, 'value', 'delay_minutes')"
   ]
  },
  {
   "cell_type": "code",
   "execution_count": null,
   "metadata": {},
   "outputs": [],
   "source": [
    "frame['long_delay'] = frame['delay_minutes'] > 5\n",
    "frame.groupby('line')['long_delay'].mean().sort_values(ascending=False).plot(kind='bar')"
   ]
  },
  {
   "cell_type": "code",
   "execution_count": null,
   "metadata": {},
   "outputs": [],
   "source": [
    "x= frame.groupby(['line', 'status']).size().unstack()\n",
    "x['cancelled']/(x['departed']+x['estimated'])"
   ]
  },
  {
   "cell_type": "code",
   "execution_count": null,
   "metadata": {},
   "outputs": [],
   "source": [
    "x['cancelled']"
   ]
  },
  {
   "cell_type": "code",
   "execution_count": null,
   "metadata": {},
   "outputs": [],
   "source": [
    "ax = frame.groupby('stop_sequence')['delay_minutes'].mean().plot()\n",
    "ax.set_ylabel('average delay_minutes')"
   ]
  },
  {
   "cell_type": "code",
   "execution_count": null,
   "metadata": {},
   "outputs": [],
   "source": [
    "frame.groupby('from')['delay_minutes'].mean().sort_values(ascending=False).head(10)"
   ]
  },
  {
   "cell_type": "code",
   "execution_count": null,
   "metadata": {},
   "outputs": [],
   "source": [
    "frame.groupby('to')['delay_minutes'].mean().sort_values(ascending=False).head(10)"
   ]
  },
  {
   "cell_type": "code",
   "execution_count": null,
   "metadata": {},
   "outputs": [],
   "source": [
    "x = frame.groupby('date')['delay_minutes'].mean()\n",
    "fig, ax = plt.subplots()\n",
    "fig.set_size_inches(20,8)\n",
    "fig.autofmt_xdate()\n",
    "ax.plot(x)\n",
    "ax.set_ylabel('average delay_minutes')\n",
    "plt.show()"
   ]
  },
  {
   "cell_type": "code",
   "execution_count": null,
   "metadata": {},
   "outputs": [],
   "source": [
    "frame.scheduled_time = pd.to_datetime(frame.scheduled_time)\n",
    "frame['time'] = frame.scheduled_time.dt.time"
   ]
  },
  {
   "cell_type": "code",
   "execution_count": null,
   "metadata": {},
   "outputs": [],
   "source": [
    "fig, ax = plt.subplots()\n",
    "fig.set_size_inches(20, 8)\n",
    "x = frame.groupby('time')['delay_minutes'].mean()\n",
    "ax.plot(x)\n",
    "ax.set_ylabel('average delay_minutes')\n",
    "plt.show()"
   ]
  },
  {
   "cell_type": "code",
   "execution_count": null,
   "metadata": {},
   "outputs": [],
   "source": [
    "x.sort_values(ascending=False).head(5)"
   ]
  },
  {
   "cell_type": "code",
   "execution_count": null,
   "metadata": {},
   "outputs": [],
   "source": [
    "x = frame.groupby(['date', 'status']).size().unstack()\n",
    "x = (x['cancelled']/(x['departed']+x['estimated']))"
   ]
  },
  {
   "cell_type": "code",
   "execution_count": null,
   "metadata": {},
   "outputs": [],
   "source": [
    "fig, ax = plt.subplots()\n",
    "fig.set_size_inches(20, 8)\n",
    "ax.plot(x)\n",
    "ax.set_ylabel('cancellation rate')\n",
    "plt.show()"
   ]
  },
  {
   "cell_type": "code",
   "execution_count": null,
   "metadata": {},
   "outputs": [],
   "source": [
    "x.sort_values(ascending=False).head(5)"
   ]
  },
  {
   "cell_type": "code",
   "execution_count": null,
   "metadata": {},
   "outputs": [],
   "source": [
    "x = frame.groupby(['time', 'status']).size().unstack()\n",
    "x = (x['cancelled']/(x['departed']+x['estimated'])) "
   ]
  },
  {
   "cell_type": "code",
   "execution_count": null,
   "metadata": {},
   "outputs": [],
   "source": [
    "fig, ax = plt.subplots()\n",
    "fig.set_size_inches(20,8)\n",
    "ax.plot(x)\n",
    "ax.set_ylabel('cancellation rate')\n",
    "plt.show()"
   ]
  },
  {
   "cell_type": "code",
   "execution_count": null,
   "metadata": {},
   "outputs": [],
   "source": []
  }
 ],
 "metadata": {
  "kernelspec": {
   "display_name": "Python 3",
   "language": "python",
   "name": "python3"
  },
  "language_info": {
   "codemirror_mode": {
    "name": "ipython",
    "version": 3
   },
   "file_extension": ".py",
   "mimetype": "text/x-python",
   "name": "python",
   "nbconvert_exporter": "python",
   "pygments_lexer": "ipython3",
   "version": "3.7.1"
  }
 },
 "nbformat": 4,
 "nbformat_minor": 2
}
